{
 "cells": [
  {
   "cell_type": "markdown",
   "metadata": {
    "collapsed": true
   },
   "source": [
    "### P5: Vehicle Detection \n",
    "#### This is a pipeline of how algorithm would flow."
   ]
  },
  {
   "cell_type": "code",
   "execution_count": 1,
   "metadata": {},
   "outputs": [
    {
     "name": "stdout",
     "output_type": "stream",
     "text": [
      "Regular required imports.\n"
     ]
    }
   ],
   "source": [
    "import cv2\n",
    "import matplotlib.pyplot as plt\n",
    "import matplotlib.image as mpimg\n",
    "import numpy as np\n",
    "from sklearn.preprocessing import StandardScaler\n",
    "from mpl_toolkits.mplot3d import Axes3D\n",
    "import glob\n",
    "from sklearn.model_selection import train_test_split\n",
    "from scipy.ndimage.measurements import label\n",
    "\n",
    "\n",
    "\n",
    "print('Regular required imports.')"
   ]
  },
  {
   "cell_type": "code",
   "execution_count": null,
   "metadata": {
    "collapsed": true
   },
   "outputs": [],
   "source": []
  },
  {
   "cell_type": "code",
   "execution_count": 2,
   "metadata": {},
   "outputs": [
    {
     "name": "stdout",
     "output_type": "stream",
     "text": [
      "Color Histogram feature extracted.\n"
     ]
    }
   ],
   "source": [
    "def color_hist(img,plot_hist=False,ranges=(0,256)):\n",
    "    # making a hist of 3 channels of image (any colorspace)\n",
    "    hist1 = np.histogram(img[:,:,0], bins = 32, range=ranges)\n",
    "    hist2 = np.histogram(img[:,:,1], bins = 32, range=ranges)\n",
    "    hist3 = np.histogram(img[:,:,2], bins = 32, range=ranges)\n",
    "    # calculating the number of bin centers\n",
    "    bin_edges = hist1[1]\n",
    "    bin_centers = (bin_edges[1:] + bin_edges[0:(len(bin_edges)-1)])/2\n",
    "    \n",
    "    # Plotting histograms only when asked for\n",
    "    if plot_hist is True:\n",
    "        fig = plt.figure(fig_size = (12,3))\n",
    "        plt.subplot(131)\n",
    "        plt.bar(bin_centers,hist1[0])\n",
    "        plt.xlim(0,256)\n",
    "        plt.title(' Histogram of 1st channel')\n",
    "        plt.subplot(132)\n",
    "        plt.bar(bin_centers,hist2[0])\n",
    "        plt.xlim(0,256)\n",
    "        plt.title(' Histogram of 2nd channel')\n",
    "        plt.subplot(133)\n",
    "        plt.bar(bin_centers,hist3[0])\n",
    "        plt.xlim(0,256)\n",
    "        plt.title(' Histogram of 3rd channel')\n",
    "    \n",
    "    hist_features = np.concatenate((hist1[0],hist2[0],hist3[0]))\n",
    "    #hist_features = hist_features.ravel()\n",
    "    return hist_features\n",
    "\n",
    "    \n",
    "    \n",
    "    \n",
    "\n",
    "print('Color Histogram feature extracted.')\n",
    "    \n",
    "    "
   ]
  },
  {
   "cell_type": "code",
   "execution_count": 3,
   "metadata": {},
   "outputs": [
    {
     "name": "stdout",
     "output_type": "stream",
     "text": [
      "Function for visualization of apt color space.\n"
     ]
    }
   ],
   "source": [
    "def color_space_explore(img):\n",
    "    def plot3d(pixels, color_rgb, axis_labels=list(\"RGB\"),axis_limits = ((0,255),(0,255),(0,255))):\n",
    "        \n",
    "        # Plotting color space in 3d\n",
    "        fig = plt.figure()\n",
    "        ax = Axes3D(fig)\n",
    "        \n",
    "        # Axis limits\n",
    "        ax.set_xlim(axis_limits[0])\n",
    "        ax.set_ylim(axis_limits[1])\n",
    "        ax.set_zlim(axis_limits[2])\n",
    "        \n",
    "         # Set axis labels and sizes\n",
    "        ax.tick_params(axis='both', which='major', labelsize=14, pad=8)\n",
    "        ax.set_xlabel(axis_labels[0],fontsize=16, labelpad=16)\n",
    "        ax.set_ylabel(axis_labels[1],fontsize=16, labelpad=16)\n",
    "        ax.set_zlabel(axis_labels[2],fontsize=16, labelpad=16)\n",
    "        \n",
    "        # Scatter Plot\n",
    "        ax.scatter(pixels[:,:,0].ravel(),\n",
    "                   pixels[:,:,1].ravel(),\n",
    "                   pixels[:,:,2].ravel(),\n",
    "                   c=color_rgb.reshape((-1, 3)), \n",
    "                   edgecolors='none')\n",
    "        return ax\n",
    "    \n",
    "    #subsampling\n",
    "    scale = max(img.shape[0], img.shape[1], 64) / 64 \n",
    "    img_small = cv2.resize(img,(np.int(img.shape[1]/scale),np.int(img.shape[0]/scale)),interpolation=cv2.INTER_NEAREST)\n",
    "    img_small_rgb = cv2.cvtColor(img_small, cv2.COLOR_BGR2RGB)\n",
    "    img_small_HSV = cv2.cvtColor(img_small, cv2.COLOR_BGR2YCrCb)\n",
    "    img_small_RGB = img_small_rgb / 255\n",
    "    \n",
    "    # Plotting\n",
    "    plot3d(img_small_rgb, img_small_RGB)\n",
    "    plt.show()\n",
    "    \n",
    "    plot3d(img_small_HSV,img_small_RGB, axis_labels=list(\"YCrCb\"))\n",
    "    plt.show()\n",
    "    \n",
    "\n",
    "print(\"Function for visualization of apt color space.\")"
   ]
  },
  {
   "cell_type": "code",
   "execution_count": 4,
   "metadata": {},
   "outputs": [
    {
     "name": "stdout",
     "output_type": "stream",
     "text": [
      "Spatial Reduction of images done.\n"
     ]
    }
   ],
   "source": [
    "# To reduce size for better computation\n",
    "def spatial_binning(img,reshape_size=(32,32)):\n",
    "    img = cv2.resize(img,reshape_size)\n",
    "    feature_vector = img.ravel()\n",
    "    return feature_vector\n",
    "print('Spatial Reduction of images done.')\n"
   ]
  },
  {
   "cell_type": "code",
   "execution_count": 5,
   "metadata": {},
   "outputs": [
    {
     "name": "stdout",
     "output_type": "stream",
     "text": [
      "HOG feature vector extracted.\n"
     ]
    }
   ],
   "source": [
    "from skimage.feature import hog\n",
    "def hog_vec(img,orient,pixel_per_cell,cell_per_block,visualise=False):\n",
    "    hog_features,hog_image = hog(img,orientations = orient, \n",
    "                                 pixels_per_cell = (pixel_per_cell,pixel_per_cell), \n",
    "                                 cells_per_block=(cell_per_block,cell_per_block),\n",
    "                                 visualise = True,feature_vector=True,block_norm=\"L2-Hys\")\n",
    "    \n",
    "    if visualise is True:\n",
    "        fig = plt.figure(fig_size=(16,16))\n",
    "        plt.subplot(121)\n",
    "        plt.imshow(img,cmap='gray')\n",
    "        plt.title('Original Image')\n",
    "        plt.subplot(122)\n",
    "        plt.imshow(hog_image,cmap='gray')\n",
    "        plt.title('HOG Visualisation')\n",
    "        \n",
    "    return hog_features\n",
    "print('HOG feature vector extracted.')"
   ]
  },
  {
   "cell_type": "code",
   "execution_count": 6,
   "metadata": {},
   "outputs": [
    {
     "name": "stdout",
     "output_type": "stream",
     "text": [
      "Combined all the features.\n"
     ]
    }
   ],
   "source": [
    "def comb_feat_vec(img=None,imgs=None, orient=8,pixel_per_cell=8,cell_per_block=2, cspace='RGB'):\n",
    "    # Initialising a feature list\n",
    "    features=[]\n",
    "    if img is None:\n",
    "        # iterating over all the images and extracting the features and appending in the list\n",
    "        for file in imgs:\n",
    "            file_features =[]\n",
    "            img = mpimg.imread(file) # PNG file format (0-1)\n",
    "\n",
    "            if cspace != 'RGB':\n",
    "                if cspace == 'HSV':\n",
    "                    feature_image = cv2.cvtColor(img, cv2.COLOR_RGB2HSV)\n",
    "                elif cspace == 'LUV':\n",
    "                    feature_image = cv2.cvtColor(img, cv2.COLOR_RGB2LUV)\n",
    "                elif cspace == 'HLS':\n",
    "                    feature_image = cv2.cvtColor(img, cv2.COLOR_RGB2HLS)\n",
    "                elif cspace == 'YUV':\n",
    "                    feature_image = cv2.cvtColor(img, cv2.COLOR_RGB2YUV)\n",
    "                elif cspace == 'YCrCb':\n",
    "                    feature_image = cv2.cvtColor(img, cv2.COLOR_RGB2YCrCb)\n",
    "            else: \n",
    "                feature_image = np.copy(img)\n",
    "            #Extracting the features after size reduction\n",
    "            spatial_features = spatial_binning(feature_image,reshape_size=(32,32))\n",
    "            ## Normalizing the feature\n",
    "            spatial_features = (spatial_features-np.mean(spatial_features))/np.std(spatial_features)\n",
    "            file_features.append(spatial_features)\n",
    "            #Extracting the features from color histogram\n",
    "            color_histogram = color_hist(feature_image,plot_hist=False,ranges=(0,256))\n",
    "            ## Normalizing the feature\n",
    "            color_histogram = (color_histogram-np.mean(color_histogram))/np.std(color_histogram)\n",
    "            file_features.append(color_histogram)\n",
    "            # Extracting HOG features\n",
    "            hog_features = hog_vec(feature_image,orient,pixel_per_cell,cell_per_block,visualise=False)\n",
    "            ## Normalizing the feature\n",
    "            #hog_features = (hog_features-np.mean(hog_features))/np.std(hog_features)\n",
    "            # Appending all the features in each iteration\n",
    "            file_features.append(hog_features)\n",
    "            features.append(np.concatenate(file_features))\n",
    "    else:\n",
    "        if cspace != 'RGB':\n",
    "            if cspace == 'HSV':\n",
    "                feature_image = cv2.cvtColor(img, cv2.COLOR_RGB2HSV)\n",
    "            elif cspace == 'LUV':\n",
    "                feature_image = cv2.cvtColor(img, cv2.COLOR_RGB2LUV)\n",
    "            elif cspace == 'HLS':\n",
    "                feature_image = cv2.cvtColor(img, cv2.COLOR_RGB2HLS)\n",
    "            elif cspace == 'YUV':\n",
    "                feature_image = cv2.cvtColor(img, cv2.COLOR_RGB2YUV)\n",
    "            elif cspace == 'YCrCb':\n",
    "                feature_image = cv2.cvtColor(img, cv2.COLOR_RGB2YCrCb)\n",
    "        else: \n",
    "            feature_image = np.copy(img)\n",
    "        #Extracting the features after size reduction\n",
    "        spatial_features = spatial_binning(feature_image,reshape_size=(32,32))\n",
    "        ## Normalizing the feature\n",
    "        spatial_features = (spatial_features-np.mean(spatial_features))/np.std(spatial_features)\n",
    "        features.append(spatial_features)\n",
    "        #Extracting the features from color histogram\n",
    "        color_histogram = color_hist(feature_image,plot_hist=False,ranges=(0,256))\n",
    "        ## Normalizing the feature\n",
    "        color_histogram = (color_histogram-np.mean(color_histogram))/np.std(color_histogram)\n",
    "        features.append(color_histogram)\n",
    "        # Extracting HOG features\n",
    "        hog_features = hog_vec(feature_image,orient,pixel_per_cell,cell_per_block,visualise=False)\n",
    "        ## Normalizing the feature\n",
    "        #hog_features = (hog_features-np.mean(hog_features))/np.std(hog_features)\n",
    "        # Appending all the features in each iteration\n",
    "        features.append(hog_features)\n",
    "        features = np.concatenate(features)\n",
    "        \n",
    "        \n",
    "    return features\n",
    "        \n",
    "print('Combined all the features.')\n",
    "    \n",
    "######################### MAKE a DT classifier Prunning to merge only good features of these 3 #########################################\n",
    "    "
   ]
  },
  {
   "cell_type": "code",
   "execution_count": 7,
   "metadata": {
    "collapsed": true
   },
   "outputs": [],
   "source": [
    "def extract_features(imgs, color_space='RGB', spatial_size=(32, 32),\n",
    "                        hist_bins=32, orient=8, \n",
    "                        pix_per_cell=8, cell_per_block=2, hog_channel=0,\n",
    "                        spatial_feat=True, hist_feat=True, hog_feat=True):\n",
    "    # Create a list to append feature vectors to\n",
    "    features = []\n",
    "    # Iterate through the list of images\n",
    "    for file in imgs:\n",
    "        file_features = []\n",
    "        # Read in each one by one\n",
    "        image = mpimg.imread(file)\n",
    "        # apply color conversion if other than 'RGB'\n",
    "        if color_space != 'RGB':\n",
    "            if color_space == 'HSV':\n",
    "                feature_image = cv2.cvtColor(image, cv2.COLOR_RGB2HSV)\n",
    "            elif color_space == 'LUV':\n",
    "                feature_image = cv2.cvtColor(image, cv2.COLOR_RGB2LUV)\n",
    "            elif color_space == 'HLS':\n",
    "                feature_image = cv2.cvtColor(image, cv2.COLOR_RGB2HLS)\n",
    "            elif color_space == 'YUV':\n",
    "                feature_image = cv2.cvtColor(image, cv2.COLOR_RGB2YUV)\n",
    "            elif color_space == 'YCrCb':\n",
    "                feature_image = cv2.cvtColor(img, cv2.COLOR_RGB2YCrCb)\n",
    "        else: feature_image = np.copy(img)      \n",
    "\n",
    "        if spatial_feat == True:\n",
    "            spatial_features = spatial_binning(feature_image,reshape_size=(32,32))\n",
    "            file_features.append(spatial_features)\n",
    "        if hist_feat == True:\n",
    "            # Apply color_hist()\n",
    "            hist_features = color_hist(feature_image,plot_hist=False,ranges=(0,256))\n",
    "            file_features.append(hist_features)\n",
    "        if hog_feat == True:\n",
    "        # Call get_hog_features() with vis=False, feature_vec=True\n",
    "            if hog_channel == 'ALL':\n",
    "                hog_features = []\n",
    "                for channel in range(feature_image.shape[2]):\n",
    "                    hog_features.extend(hog_vec(feature_image[:,:,channel], \n",
    "                                    orient,pixel_per_cell,cell_per_block,visualise=False))    \n",
    "                hog_features = np.ravel(hog_features)        \n",
    "            else:\n",
    "                hog_features = hog_vec(feature_image[:,:,hog_channel],orient,pixel_per_cell,cell_per_block,visualise=False)\n",
    "            # Append the new feature vector to the features list\n",
    "            file_features.append(hog_features)\n",
    "        features.append(np.concatenate(file_features))\n",
    "    # Return list of feature vectors\n",
    "    return features"
   ]
  },
  {
   "cell_type": "code",
   "execution_count": 8,
   "metadata": {},
   "outputs": [
    {
     "name": "stdout",
     "output_type": "stream",
     "text": [
      "Image feature extracter\n"
     ]
    }
   ],
   "source": [
    "def single_img_features(img, color_space='HSV', spatial_size=(32, 32),\n",
    "                        hist_bins=32, orient=8, \n",
    "                        pixel_per_cell=8, cell_per_block=2, hog_channel=0,\n",
    "                        spatial_feat=True, hist_feat=True, hog_feat=True):    \n",
    "    #1) Define an empty list to receive features\n",
    "    img_features = []\n",
    "    #2) Apply color conversion if other than 'RGB'\n",
    "    if color_space != 'RGB':\n",
    "        if color_space == 'HSV':\n",
    "            feature_image = cv2.cvtColor(img, cv2.COLOR_RGB2HSV)\n",
    "        elif color_space == 'LUV':\n",
    "            feature_image = cv2.cvtColor(img, cv2.COLOR_RGB2LUV)\n",
    "        elif color_space == 'HLS':\n",
    "            feature_image = cv2.cvtColor(img, cv2.COLOR_RGB2HLS)\n",
    "        elif color_space == 'YUV':\n",
    "            feature_image = cv2.cvtColor(img, cv2.COLOR_RGB2YUV)\n",
    "        elif color_space == 'YCrCb':\n",
    "            feature_image = cv2.cvtColor(img, cv2.COLOR_RGB2YCrCb)\n",
    "    else: feature_image = np.copy(img)      \n",
    "    #3) Compute spatial features if flag is set\n",
    "    if spatial_feat == True:\n",
    "        spatial_features = spatial_binning(feature_image,reshape_size=(32,32))\n",
    "        spatial_features = (spatial_features-np.mean(spatial_features))/np.std(spatial_features)\n",
    "        #4) Append features to list\n",
    "        img_features.append(spatial_features)\n",
    "    #5) Compute histogram features if flag is set\n",
    "    if hist_feat == True:\n",
    "        color_histogram = color_hist(feature_image,plot_hist=False,ranges=(0,256))\n",
    "        color_histogram = (color_histogram-np.mean(color_histogram))/np.std(color_histogram)\n",
    "        #6) Append features to list\n",
    "        img_features.append(color_histogram)\n",
    "    #7) Compute HOG features if flag is set\n",
    "    if hog_feat == True:\n",
    "        if hog_channel == 'ALL':\n",
    "            hog_features = []\n",
    "            for channel in range(feature_image.shape[2]):\n",
    "                hog_features.extend(hog_vec(feature_image[:,:,channel], \n",
    "                                    orient,pixel_per_cell,cell_per_block,visualise=False))      \n",
    "        else:\n",
    "            hog_features = hog_vec(feature_image[:,:,hog_channel],orient,pixel_per_cell,cell_per_block,visualise=False)\n",
    "        #8) Append features to list\n",
    "        img_features.append(hog_features)\n",
    "        \n",
    "        #print(np.concatenate(img_features).shape)\n",
    "\n",
    "    #9) Return concatenated array of features\n",
    "    return np.concatenate(img_features)\n",
    "print('Image feature extracter')"
   ]
  },
  {
   "cell_type": "code",
   "execution_count": 9,
   "metadata": {},
   "outputs": [
    {
     "name": "stdout",
     "output_type": "stream",
     "text": [
      "Rectange drawn.\n"
     ]
    }
   ],
   "source": [
    "def draw_box(img,bboxes,color=(0, 0, 255), thick=6):\n",
    "    # creating a copy\n",
    "    image = np.copy(img)\n",
    "    # loopoing over all the vertices in bboxes\n",
    "    for bbox in bboxes:\n",
    "        # creating a rectangle\n",
    "        cv2.rectangle(image,bbox[0],bbox[1],color,thick)\n",
    "    return image\n",
    "print('Rectange drawn.')\n",
    "    \n",
    "    "
   ]
  },
  {
   "cell_type": "code",
   "execution_count": 10,
   "metadata": {},
   "outputs": [
    {
     "name": "stdout",
     "output_type": "stream",
     "text": [
      "Window will slide in the lower half of the image fed.\n"
     ]
    }
   ],
   "source": [
    "import math\n",
    "def slide_win(img,xy_windows=(64, 64), xy_overlap=(0.75, 0.75)):\n",
    "    # sliding windows only in the lower half of the image\n",
    "    x_start = 0\n",
    "    x_stop = img.shape[1]\n",
    "    y_start = img.shape[0]/2\n",
    "    y_stop = 660\n",
    "    # calculating the total span where window will slide\n",
    "    x_span = x_stop - x_start\n",
    "    y_span = y_stop - y_start\n",
    "    # calculating the number of windows in x-y directions\n",
    "    nxwindows = 1 + ((x_span - xy_windows[0])/(xy_windows[0]*(1-xy_overlap[0])))\n",
    "    nywindows = 1 + ((y_span - xy_windows[1])/(xy_windows[1]*(1-xy_overlap[1])))\n",
    "    \n",
    "    #Initialising the window list\n",
    "    window_list = []\n",
    "    for ny in range(np.int(nywindows)):\n",
    "        for nx in range(np.int(nxwindows)):\n",
    "            startx = round(np.int(nx*(np.int((1-xy_overlap[0])*xy_windows[0])) + x_start))\n",
    "            starty = round(np.int(ny*(np.int((1-xy_overlap[1])*xy_windows[1])) + y_start))\n",
    "            endx   = round(np.int(startx + xy_windows[0]))\n",
    "            endy   = round(np.int(starty + xy_windows[1]))\n",
    "            \n",
    "            \n",
    "            window_list.append(((startx,starty),(endx,endy)))\n",
    "    \n",
    "    return window_list\n",
    "\n",
    "print('Window will slide in the lower half of the image fed.')\n",
    "    \n",
    "    "
   ]
  },
  {
   "cell_type": "code",
   "execution_count": 11,
   "metadata": {},
   "outputs": [
    {
     "name": "stdout",
     "output_type": "stream",
     "text": [
      "Searching for cars.\n"
     ]
    }
   ],
   "source": [
    "def search_windows(img,windows,clf,x_scaler, orient,pixel_per_cell,cell_per_block, cspace='HSV'):\n",
    "    \n",
    "    on_window = []\n",
    "    for window in windows:\n",
    "        # Taking a portion of image and scaling it to 64x64\n",
    "        test_img = cv2.resize(img[window[0][1]:window[1][1],window[0][0]:window[1][0]],(64,64))\n",
    "        \n",
    "        # Exctracting features from the test image\n",
    "        features = single_img_features(test_img, color_space=cspace, \n",
    "                                       orient=orient, pixel_per_cell=pixel_per_cell, \n",
    "                                       cell_per_block=cell_per_block)\n",
    "                            \n",
    "        #features = comb_feat_vec(test_img,windows, orient,pixel_per_cell,cell_per_block, cspace='RGB')\n",
    "        \n",
    "        # Trasnforming and reshaping into a column vector\n",
    "        test_features = x_scaler.transform(np.array(features).reshape(1,-1))\n",
    "        \n",
    "        \n",
    "        # Predict through thee established classifier\n",
    "        predictions = clf.predict(test_features)\n",
    "        \n",
    "        if predictions == 1:\n",
    "            on_window.append(window)\n",
    "    return on_window\n",
    "print('Searching for cars.')"
   ]
  },
  {
   "cell_type": "code",
   "execution_count": 12,
   "metadata": {},
   "outputs": [
    {
     "name": "stdout",
     "output_type": "stream",
     "text": [
      "Heat map created\n"
     ]
    }
   ],
   "source": [
    "#heat_map = np.zeros_like(image[:,:,0]).astype(np.float) ########### To be shifted to main ###########\n",
    "def heat_map(heat_mapa,box_list):\n",
    "    for box in box_list:\n",
    "        heat_mapa[box[0][1]:box[1][1],box[0][0]:box[1][0]] += 1\n",
    "    return heat_mapa\n",
    "print('Heat map created')"
   ]
  },
  {
   "cell_type": "code",
   "execution_count": 13,
   "metadata": {},
   "outputs": [
    {
     "name": "stdout",
     "output_type": "stream",
     "text": [
      "False Positives removed\n"
     ]
    }
   ],
   "source": [
    "def heat_threshold(heat_map,threshold,disp = False):\n",
    "    heat_map[heat_map<=threshold] = 0\n",
    "    if disp is True:\n",
    "        plt.imshow(heat_map)\n",
    "    return heat_map\n",
    "print('False Positives removed')"
   ]
  },
  {
   "cell_type": "code",
   "execution_count": 14,
   "metadata": {},
   "outputs": [
    {
     "name": "stdout",
     "output_type": "stream",
     "text": [
      "Box on most hot pixels\n"
     ]
    }
   ],
   "source": [
    "def heat_box(img, labels):\n",
    "    # Iterate through all detected cars\n",
    "    for car_number in range(1, labels[1]+1):\n",
    "        # Find pixels with each car_number label value\n",
    "        nonzero = (labels[0] == car_number).nonzero()\n",
    "        # Identify x and y values of those pixels\n",
    "        nonzeroy = np.array(nonzero[0])\n",
    "        nonzerox = np.array(nonzero[1])\n",
    "        # Define a bounding box based on min/max x and y\n",
    "        bbox = ((np.min(nonzerox), np.min(nonzeroy)), (np.max(nonzerox), np.max(nonzeroy)))\n",
    "        # Draw the box on the image\n",
    "        cv2.rectangle(img, bbox[0], bbox[1], (0,0,255), 6)\n",
    "    # Return the image\n",
    "    return img\n",
    "print('Box on most hot pixels')"
   ]
  },
  {
   "cell_type": "code",
   "execution_count": null,
   "metadata": {
    "collapsed": true
   },
   "outputs": [],
   "source": [
    "\n",
    "    "
   ]
  },
  {
   "cell_type": "code",
   "execution_count": 15,
   "metadata": {},
   "outputs": [
    {
     "name": "stdout",
     "output_type": "stream",
     "text": [
      "Data Exploration\n"
     ]
    }
   ],
   "source": [
    "def data_exlore(car_list,noncar_list,disp= False):\n",
    "    # Initialising the data dictionary\n",
    "    data={}\n",
    "    data['cars'] = len(car_list)\n",
    "    data['non_cars'] = len(noncar_list)\n",
    "    car_img = mpimg.imread(car_list[np.random.randint(0,len(car_list))])\n",
    "    noncar_img = mpimg.imread(noncar_list[np.random.randint(0,len(noncar_list))])\n",
    "    if disp is True:\n",
    "        fig = plt.figure()\n",
    "        plt.subplot(121)\n",
    "        plt.imshow(car_img)\n",
    "        plt.title('Car')\n",
    "        plt.subplot(122)\n",
    "        plt.imshow(noncar_img)\n",
    "        plt.title('Not a car')\n",
    "    data['image_shape'] = car_img.shape\n",
    "    return data\n",
    "\n",
    "print('Data Exploration')"
   ]
  },
  {
   "cell_type": "code",
   "execution_count": 16,
   "metadata": {},
   "outputs": [
    {
     "data": {
      "image/png": "[encoded data removed]",
      "text/plain": [
       "<matplotlib.figure.Figure at 0x7fabedab5748>"
      ]
     },
     "metadata": {},
     "output_type": "display_data"
    },
    {
     "data": {
      "image/png": "[encoded data removed]",
      "text/plain": [
       "<matplotlib.figure.Figure at 0x7fabf65f0eb8>"
      ]
     },
     "metadata": {},
     "output_type": "display_data"
    },
    {
     "data": {
      "image/png": "[encoded data removed]",
      "text/plain": [
       "<matplotlib.figure.Figure at 0x7fabed805630>"
      ]
     },
     "metadata": {},
     "output_type": "display_data"
    },
    {
     "name": "stdout",
     "output_type": "stream",
     "text": [
      "8792 Number of cars\n",
      "8968 Number of non-cars\n",
      "(64, 64, 3) Image shape\n"
     ]
    }
   ],
   "source": [
    "#################################### Preparation of data for training ###################################\n",
    "far_cars = glob.glob('../Vehicle_detection/vehicles/vehicles/GTI_Far/image*.png') # Images are in .png file format\n",
    "left_cars = glob.glob('../Vehicle_detection/vehicles/vehicles/GTI_Left/image*.png')\n",
    "middle_cars = glob.glob('../Vehicle_detection/vehicles/vehicles/GTI_MiddleClose/image*.png')\n",
    "right_cars = glob.glob('../Vehicle_detection/vehicles/vehicles/GTI_Right/image*.png')\n",
    "Kitti_cars = glob.glob('../Vehicle_detection/vehicles/vehicles/KITTI_extracted/*.png')\n",
    "car_list= (far_cars+left_cars+middle_cars+right_cars+Kitti_cars)\n",
    "#print(len(car_list))\n",
    "\n",
    "noncars1 = glob.glob('../Vehicle_detection/non_vehicles/non_vehicles/GTI/image*.png')\n",
    "noncars2 = glob.glob('../Vehicle_detection/non_vehicles/non_vehicles/Extras/extra*.png')\n",
    "noncar_list = noncars1 + noncars2\n",
    "#print(len(noncar_list))\n",
    "\n",
    "training_set = data_exlore(car_list,noncar_list,disp=True)\n",
    "\n",
    "color_space_explore(mpimg.imread(car_list[10]))\n",
    "print(training_set['cars'],'Number of cars')\n",
    "print(training_set['non_cars'],'Number of non-cars')\n",
    "print(training_set['image_shape'],'Image shape')"
   ]
  },
  {
   "cell_type": "code",
   "execution_count": 17,
   "metadata": {
    "scrolled": true
   },
   "outputs": [
    {
     "name": "stdout",
     "output_type": "stream",
     "text": [
      "8792\n",
      "Combined feature vector created\n"
     ]
    }
   ],
   "source": [
    "############# Extracting features and apt preprocessing\n",
    "'''car_features = comb_feat_vec(img=None,imgs=car_list, orient=8,pixel_per_cell=8,cell_per_block=2, cspace='RGB')\n",
    "noncar_features = comb_feat_vec(img=None,imgs=noncar_list[:len(car_list)], orient=8,pixel_per_cell=8,cell_per_block=2, cspace='RGB')\n",
    "print('Training data')'''\n",
    "car_features, noncar_features = [],[]\n",
    "for file in car_list:\n",
    "    # Read in each one by on\n",
    "    image = cv2.imread(file)\n",
    "    image = cv2.cvtColor(image, cv2.COLOR_BGR2RGB)\n",
    "    car_feature = single_img_features(image, color_space='YCrCb', \n",
    "                                      orient=9, pixel_per_cell=16,\n",
    "                                      cell_per_block=1)\n",
    "    car_features.append(car_feature)\n",
    "for files in noncar_list:\n",
    "    \n",
    "    # Read in each one by one\n",
    "    image = cv2.imread(files)\n",
    "    image = cv2.cvtColor(image, cv2.COLOR_BGR2RGB)\n",
    "    noncar_feature =single_img_features(image, color_space='YCrCb', \n",
    "                                        orient=9, pixel_per_cell=16,\n",
    "                                        cell_per_block=1)\n",
    "    noncar_features.append(noncar_feature)\n",
    "\n",
    "\n",
    "print(len(car_features))\n",
    "\n",
    "print('Combined feature vector created')"
   ]
  },
  {
   "cell_type": "code",
   "execution_count": 18,
   "metadata": {
    "scrolled": false
   },
   "outputs": [
    {
     "name": "stdout",
     "output_type": "stream",
     "text": [
      "8792\n",
      "3312\n",
      "3312\n",
      "8968\n",
      "(17760, 3312)\n",
      "(17760,)\n",
      "X and y created and split\n"
     ]
    }
   ],
   "source": [
    "# X,Y for splitting and normalization\n",
    "print(len(car_features))\n",
    "print(len(car_features[3]))\n",
    "print(len(noncar_features[0]))\n",
    "print(len(noncar_features))\n",
    "X = np.vstack((car_features, noncar_features)).astype(np.float64)\n",
    "Y = np.hstack((np.ones(len(car_features)), np.zeros(len(noncar_features))))\n",
    "print(X.shape)\n",
    "print(Y.shape)\n",
    "rand_state = np.random.randint(0, 100)\n",
    "X_train, X_test, y_train, y_test = train_test_split(X, Y, test_size=0.2, random_state=rand_state)\n",
    "print(\"X and y created and split\")"
   ]
  },
  {
   "cell_type": "code",
   "execution_count": 19,
   "metadata": {},
   "outputs": [
    {
     "name": "stdout",
     "output_type": "stream",
     "text": [
      "(14208, 3312)\n",
      "(14208,)\n",
      "Data Normalized\n"
     ]
    }
   ],
   "source": [
    "## Normalizing the training/testing data\n",
    "X_train = np.asarray(X_train)\n",
    "y_train = np.asarray(y_train)\n",
    "print(X_train.shape)\n",
    "print(y_train.shape)\n",
    "X_scaler = StandardScaler().fit(X_train)\n",
    "# Apply the scaler to X\n",
    "X_train = X_scaler.transform(X_train)\n",
    "X_test = X_scaler.transform(X_test)\n",
    "\n",
    "\n",
    "print('Data Normalized')"
   ]
  },
  {
   "cell_type": "code",
   "execution_count": 20,
   "metadata": {},
   "outputs": [
    {
     "name": "stderr",
     "output_type": "stream",
     "text": [
      "/home/carnd/anaconda3/envs/carnd-term1/lib/python3.5/site-packages/sklearn/cross_validation.py:44: DeprecationWarning: This module was deprecated in version 0.18 in favor of the model_selection module into which all the refactored classes and functions are moved. Also note that the interface of the new CV iterators are different from that of this module. This module will be removed in 0.20.\n",
      "  \"This module will be removed in 0.20.\", DeprecationWarning)\n",
      "/home/carnd/anaconda3/envs/carnd-term1/lib/python3.5/site-packages/sklearn/grid_search.py:43: DeprecationWarning: This module was deprecated in version 0.18 in favor of the model_selection module into which all the refactored classes and functions are moved. This module will be removed in 0.20.\n",
      "  DeprecationWarning)\n"
     ]
    },
    {
     "name": "stdout",
     "output_type": "stream",
     "text": [
      "108.39 Seconds to train SVC...\n",
      "Accuracy of this classifier is 0.9868\n"
     ]
    }
   ],
   "source": [
    "## Making the classifier\n",
    "from sklearn import svm\n",
    "from sklearn.svm import LinearSVC\n",
    "from sklearn import grid_search\n",
    "from sklearn.metrics import accuracy_score\n",
    "import time\n",
    "# Going with Linear SVM\n",
    "parameters = { 'C':[0.001, 0.01, 0.1]}\n",
    "svr = LinearSVC()\n",
    "#svr = svm.SVC(kernel = 'rbf')\n",
    "clf = grid_search.GridSearchCV(svr, parameters)\n",
    "# Training the classifier\n",
    "t1 = time.time()\n",
    "clf.fit(X_train,y_train)\n",
    "clf.best_params_\n",
    "t2 = time.time()\n",
    "print(round(t2-t1, 2), 'Seconds to train SVC...')\n",
    "print('Accuracy of this classifier is',round(clf.score(X_test,y_test),4))\n",
    "\n"
   ]
  },
  {
   "cell_type": "code",
   "execution_count": null,
   "metadata": {
    "collapsed": true
   },
   "outputs": [],
   "source": []
  },
  {
   "cell_type": "code",
   "execution_count": 2,
   "metadata": {
    "scrolled": false
   },
   "outputs": [
    {
     "ename": "NameError",
     "evalue": "name 'glob' is not defined",
     "traceback": [
      "\u001b[0;31m---------------------------------------------------------------------------\u001b[0m",
      "\u001b[0;31mNameError\u001b[0m                                 Traceback (most recent call last)",
      "\u001b[0;32m<ipython-input-2-24d67dbe3097>\u001b[0m in \u001b[0;36m<module>\u001b[0;34m()\u001b[0m\n\u001b[1;32m      1\u001b[0m \u001b[0;32mfrom\u001b[0m \u001b[0mscipy\u001b[0m\u001b[0;34m.\u001b[0m\u001b[0mndimage\u001b[0m\u001b[0;34m.\u001b[0m\u001b[0mmeasurements\u001b[0m \u001b[0;32mimport\u001b[0m \u001b[0mlabel\u001b[0m\u001b[0;34m\u001b[0m\u001b[0m\n\u001b[0;32m----> 2\u001b[0;31m \u001b[0mtest_img\u001b[0m \u001b[0;34m=\u001b[0m \u001b[0mglob\u001b[0m\u001b[0;34m.\u001b[0m\u001b[0mglob\u001b[0m\u001b[0;34m(\u001b[0m\u001b[0;34m'../Vehicle_detection/test_images/test*.jpg'\u001b[0m\u001b[0;34m)\u001b[0m\u001b[0;34m\u001b[0m\u001b[0m\n\u001b[0m\u001b[1;32m      3\u001b[0m \u001b[0;31m# Threshold for heat_maps\u001b[0m\u001b[0;34m\u001b[0m\u001b[0;34m\u001b[0m\u001b[0m\n\u001b[1;32m      4\u001b[0m \u001b[0mthreshold\u001b[0m \u001b[0;34m=\u001b[0m \u001b[0;36m2\u001b[0m\u001b[0;34m\u001b[0m\u001b[0m\n\u001b[1;32m      5\u001b[0m \u001b[0mxy_windows\u001b[0m\u001b[0;34m=\u001b[0m\u001b[0;34m(\u001b[0m\u001b[0;36m64\u001b[0m\u001b[0;34m,\u001b[0m \u001b[0;36m64\u001b[0m\u001b[0;34m)\u001b[0m\u001b[0;34m\u001b[0m\u001b[0m\n",
      "\u001b[0;31mNameError\u001b[0m: name 'glob' is not defined"
     ],
     "output_type": "error"
    }
   ],
   "source": [
    "from scipy.ndimage.measurements import label\n",
    "test_img = glob.glob('../Vehicle_detection/test_images/test*.jpg')\n",
    "# Threshold for heat_maps\n",
    "threshold = 2\n",
    "xy_windows=(64, 64)\n",
    "xy_overlap=(0.75, 0.75)\n",
    "orient = 9\n",
    "pixel_per_cell = 16\n",
    "cell_per_block = 1\n",
    "imgs, heat_imgs, window_imgs=[], [],[]\n",
    "for image in test_img:\n",
    "    img = cv2.imread(image) # Files are in jpg format (0-255)\n",
    "    img = cv2.cvtColor(img, cv2.COLOR_BGR2RGB)\n",
    "    heat_maps = np.zeros_like(img[:,:,0]).astype(np.float)\n",
    "    #plt.imshow(img)\n",
    "    #print(img.shape)\n",
    "    img_copy = np.copy(img)\n",
    "    #Converting images to (0-1) same as png in training set\n",
    "    #img = img/255 # Report this error\n",
    "    #img=img.astype(np.uint8)\n",
    "    windows = slide_win(img,xy_windows=(64, 64), xy_overlap=xy_overlap)\n",
    "    hot_windows = search_windows(img,windows,clf,X_scaler, orient,pixel_per_cell,cell_per_block, cspace='YCrCb')\n",
    "    window_img = draw_box(img, hot_windows, color=(0, 0, 255), thick=6) \n",
    "    heat = heat_map(heat_maps,hot_windows)\n",
    "    heat_thresh = heat_threshold(heat,threshold)\n",
    "    labels = label(heat_thresh)\n",
    "    heat_box_img = heat_box(img_copy,labels)\n",
    "    \n",
    "    \n",
    "    fig = plt.figure(figsize=(32,32))\n",
    "    plt.subplot(321)\n",
    "    plt.imshow(img)\n",
    "    plt.title('Image')\n",
    "    plt.subplot(322)\n",
    "    plt.imshow(window_img)\n",
    "    plt.title('Boxes identified')\n",
    "    plt.subplot(323)\n",
    "    plt.imshow(heat, cmap='hot')\n",
    "    plt.title('Heat Map')\n",
    "    plt.subplot(324)\n",
    "    plt.imshow(heat_thresh)\n",
    "    plt.title('After Treshold')\n",
    "    plt.subplot(325)\n",
    "    plt.imshow(labels[0])\n",
    "    plt.title('Number of cars')\n",
    "    plt.subplot(326)\n",
    "    plt.imshow(heat_box_img)\n",
    "    plt.title('Car Positions')\n",
    "    \n",
    "    plt.show()\n",
    "\n",
    "\n",
    "print('Image pipline created') "
   ]
  },
  {
   "cell_type": "code",
   "execution_count": null,
   "metadata": {
    "collapsed": true
   },
   "outputs": [],
   "source": []
  },
  {
   "cell_type": "code",
   "execution_count": 1,
   "metadata": {},
   "outputs": [
    {
     "name": "stdout",
     "output_type": "stream",
     "text": [
      "Pipeline created\n"
     ]
    }
   ],
   "source": [
    "def process_image(image):\n",
    "    #img = image/np.max(image)\n",
    "    img = image\n",
    "    img_copy = np.copy(img)\n",
    "    heat_maps = np.zeros_like(img[:,:,0]).astype(np.float)\n",
    "    windows = slide_win(img,xy_windows=(64, 64), xy_overlap=(0.75, 0.75))\n",
    "    hot_windows = search_windows(img,windows,clf,X_scaler, orient=9,pixel_per_cell = 16,cell_per_block = 1, cspace='YCrCb')\n",
    "    window_img = draw_box(img, hot_windows, color=(0, 0, 255), thick=6) \n",
    "    heat = heat_map(heat_maps,hot_windows)\n",
    "    heat_thresh = heat_threshold(heat,threshold=2)\n",
    "    labels = label(heat_thresh)\n",
    "    heat_box_img = heat_box(img_copy,labels)\n",
    "    return heat_box_img\n",
    "\n",
    "\n",
    "print('Pipeline created')"
   ]
  },
  {
   "cell_type": "code",
   "execution_count": 27,
   "metadata": {},
   "outputs": [
    {
     "name": "stdout",
     "output_type": "stream",
     "text": [
      "[MoviePy] >>>> Building video ../Vehicle_detection/test_videos_output/test_video_out.mp4\n",
      "[MoviePy] Writing video ../Vehicle_detection/test_videos_output/test_video_out.mp4\n"
     ]
    },
    {
     "name": "stderr",
     "output_type": "stream",
     "text": [
      " 97%|█████████▋| 38/39 [06:03<00:09,  9.54s/it]\n"
     ]
    },
    {
     "name": "stdout",
     "output_type": "stream",
     "text": [
      "[MoviePy] Done.\n",
      "[MoviePy] >>>> Video ready: ../Vehicle_detection/test_videos_output/test_video_out.mp4 \n",
      "\n",
      "CPU times: user 6min 3s, sys: 156 ms, total: 6min 3s\n",
      "Wall time: 6min 4s\n"
     ]
    }
   ],
   "source": [
    "# Import everything needed to edit/save/watch video clips\n",
    "from moviepy.editor import VideoFileClip\n",
    "from IPython.display import HTML\n",
    "from functools import reduce\n",
    "\n",
    "output_video = '../Vehicle_detection/test_videos_output/test_video_out.mp4'\n",
    "## To speed up the testing process you may want to try your pipeline on a shorter subclip of the video\n",
    "## To do so add .subclip(start_second,end_second) to the end of the line below\n",
    "## Where start_second and end_second are integer values representing the start and end of the subclip\n",
    "## You may also uncomment the following line for a subclip of the first 5 seconds\n",
    "##clip1 = VideoFileClip(\"test_videos/solidWhiteRight.mp4\").subclip(0,5)\n",
    "clip1 = VideoFileClip(\"../Vehicle_detection/test_video.mp4\")\n",
    "white_clip = clip1.fl_image(process_image) #NOTE: this function expects color images!!\n",
    "%time white_clip.write_videofile(output_video, audio=False)\n"
   ]
  },
  {
   "cell_type": "code",
   "execution_count": 28,
   "metadata": {},
   "outputs": [
    {
     "ename": "OSError",
     "evalue": "MoviePy error: the file ./videos/project_video.mp4 could not be found !\nPlease check that you entered the correct path.",
     "traceback": [
      "\u001b[0;31m---------------------------------------------------------------------------\u001b[0m",
      "\u001b[0;31mOSError\u001b[0m                                   Traceback (most recent call last)",
      "\u001b[0;32m<ipython-input-28-9a299c3111be>\u001b[0m in \u001b[0;36m<module>\u001b[0;34m()\u001b[0m\n\u001b[1;32m     27\u001b[0m     \u001b[0moutput_video\u001b[0m\u001b[0;34m.\u001b[0m\u001b[0mwrite_videofile\u001b[0m\u001b[0;34m(\u001b[0m\u001b[0moutputVideo\u001b[0m\u001b[0;34m,\u001b[0m \u001b[0maudio\u001b[0m\u001b[0;34m=\u001b[0m\u001b[0;32mFalse\u001b[0m\u001b[0;34m)\u001b[0m\u001b[0;34m\u001b[0m\u001b[0m\n\u001b[1;32m     28\u001b[0m \u001b[0;34m\u001b[0m\u001b[0m\n\u001b[0;32m---> 29\u001b[0;31m \u001b[0mprocessVideo\u001b[0m\u001b[0;34m(\u001b[0m\u001b[0;34m'./videos/project_video.mp4'\u001b[0m\u001b[0;34m,\u001b[0m \u001b[0;34m'./video_output/project_video.mp4'\u001b[0m\u001b[0;34m,\u001b[0m \u001b[0mthreshhold\u001b[0m\u001b[0;34m=\u001b[0m\u001b[0;36m2\u001b[0m\u001b[0;34m)\u001b[0m\u001b[0;34m\u001b[0m\u001b[0m\n\u001b[0m",
      "\u001b[0;32m<ipython-input-28-9a299c3111be>\u001b[0m in \u001b[0;36mprocessVideo\u001b[0;34m(inputVideo, outputVideo, frames_to_remember, threshhold)\u001b[0m\n\u001b[1;32m     23\u001b[0m         \u001b[0;32mreturn\u001b[0m \u001b[0mdraw_labeled_bboxes\u001b[0m\u001b[0;34m(\u001b[0m\u001b[0mnp\u001b[0m\u001b[0;34m.\u001b[0m\u001b[0mcopy\u001b[0m\u001b[0;34m(\u001b[0m\u001b[0mimg\u001b[0m\u001b[0;34m)\u001b[0m\u001b[0;34m,\u001b[0m \u001b[0mlabels\u001b[0m\u001b[0;34m)\u001b[0m\u001b[0;34m\u001b[0m\u001b[0m\n\u001b[1;32m     24\u001b[0m \u001b[0;34m\u001b[0m\u001b[0m\n\u001b[0;32m---> 25\u001b[0;31m     \u001b[0mmyclip\u001b[0m \u001b[0;34m=\u001b[0m \u001b[0mVideoFileClip\u001b[0m\u001b[0;34m(\u001b[0m\u001b[0minputVideo\u001b[0m\u001b[0;34m)\u001b[0m\u001b[0;34m\u001b[0m\u001b[0m\n\u001b[0m\u001b[1;32m     26\u001b[0m     \u001b[0moutput_video\u001b[0m \u001b[0;34m=\u001b[0m \u001b[0mmyclip\u001b[0m\u001b[0;34m.\u001b[0m\u001b[0mfl_image\u001b[0m\u001b[0;34m(\u001b[0m\u001b[0mpipeline\u001b[0m\u001b[0;34m)\u001b[0m\u001b[0;34m\u001b[0m\u001b[0m\n\u001b[1;32m     27\u001b[0m     \u001b[0moutput_video\u001b[0m\u001b[0;34m.\u001b[0m\u001b[0mwrite_videofile\u001b[0m\u001b[0;34m(\u001b[0m\u001b[0moutputVideo\u001b[0m\u001b[0;34m,\u001b[0m \u001b[0maudio\u001b[0m\u001b[0;34m=\u001b[0m\u001b[0;32mFalse\u001b[0m\u001b[0;34m)\u001b[0m\u001b[0;34m\u001b[0m\u001b[0m\n",
      "\u001b[0;32m/home/carnd/anaconda3/envs/carnd-term1/lib/python3.5/site-packages/moviepy/video/io/VideoFileClip.py\u001b[0m in \u001b[0;36m__init__\u001b[0;34m(self, filename, has_mask, audio, audio_buffersize, target_resolution, resize_algorithm, audio_fps, audio_nbytes, verbose, fps_source)\u001b[0m\n\u001b[1;32m     79\u001b[0m                                          \u001b[0mtarget_resolution\u001b[0m\u001b[0;34m=\u001b[0m\u001b[0mtarget_resolution\u001b[0m\u001b[0;34m,\u001b[0m\u001b[0;34m\u001b[0m\u001b[0m\n\u001b[1;32m     80\u001b[0m                                          \u001b[0mresize_algo\u001b[0m\u001b[0;34m=\u001b[0m\u001b[0mresize_algorithm\u001b[0m\u001b[0;34m,\u001b[0m\u001b[0;34m\u001b[0m\u001b[0m\n\u001b[0;32m---> 81\u001b[0;31m                                          fps_source=fps_source)\n\u001b[0m\u001b[1;32m     82\u001b[0m \u001b[0;34m\u001b[0m\u001b[0m\n\u001b[1;32m     83\u001b[0m         \u001b[0;31m# Make some of the reader's attributes accessible from the clip\u001b[0m\u001b[0;34m\u001b[0m\u001b[0;34m\u001b[0m\u001b[0m\n",
      "\u001b[0;32m/home/carnd/anaconda3/envs/carnd-term1/lib/python3.5/site-packages/moviepy/video/io/ffmpeg_reader.py\u001b[0m in \u001b[0;36m__init__\u001b[0;34m(self, filename, print_infos, bufsize, pix_fmt, check_duration, target_resolution, resize_algo, fps_source)\u001b[0m\n\u001b[1;32m     30\u001b[0m         \u001b[0mself\u001b[0m\u001b[0;34m.\u001b[0m\u001b[0mfilename\u001b[0m \u001b[0;34m=\u001b[0m \u001b[0mfilename\u001b[0m\u001b[0;34m\u001b[0m\u001b[0m\n\u001b[1;32m     31\u001b[0m         infos = ffmpeg_parse_infos(filename, print_infos, check_duration,\n\u001b[0;32m---> 32\u001b[0;31m                                    fps_source)\n\u001b[0m\u001b[1;32m     33\u001b[0m         \u001b[0mself\u001b[0m\u001b[0;34m.\u001b[0m\u001b[0mfps\u001b[0m \u001b[0;34m=\u001b[0m \u001b[0minfos\u001b[0m\u001b[0;34m[\u001b[0m\u001b[0;34m'video_fps'\u001b[0m\u001b[0;34m]\u001b[0m\u001b[0;34m\u001b[0m\u001b[0m\n\u001b[1;32m     34\u001b[0m         \u001b[0mself\u001b[0m\u001b[0;34m.\u001b[0m\u001b[0msize\u001b[0m \u001b[0;34m=\u001b[0m \u001b[0minfos\u001b[0m\u001b[0;34m[\u001b[0m\u001b[0;34m'video_size'\u001b[0m\u001b[0;34m]\u001b[0m\u001b[0;34m\u001b[0m\u001b[0m\n",
      "\u001b[0;32m/home/carnd/anaconda3/envs/carnd-term1/lib/python3.5/site-packages/moviepy/video/io/ffmpeg_reader.py\u001b[0m in \u001b[0;36mffmpeg_parse_infos\u001b[0;34m(filename, print_infos, check_duration, fps_source)\u001b[0m\n\u001b[1;32m    270\u001b[0m         raise IOError((\"MoviePy error: the file %s could not be found !\\n\"\n\u001b[1;32m    271\u001b[0m                       \u001b[0;34m\"Please check that you entered the correct \"\u001b[0m\u001b[0;34m\u001b[0m\u001b[0m\n\u001b[0;32m--> 272\u001b[0;31m                       \"path.\")%filename)\n\u001b[0m\u001b[1;32m    273\u001b[0m \u001b[0;34m\u001b[0m\u001b[0m\n\u001b[1;32m    274\u001b[0m     \u001b[0mresult\u001b[0m \u001b[0;34m=\u001b[0m \u001b[0mdict\u001b[0m\u001b[0;34m(\u001b[0m\u001b[0;34m)\u001b[0m\u001b[0;34m\u001b[0m\u001b[0m\n",
      "\u001b[0;31mOSError\u001b[0m: MoviePy error: the file ./videos/project_video.mp4 could not be found !\nPlease check that you entered the correct path."
     ],
     "output_type": "error"
    }
   ],
   "source": [
    "class HeatHistory():\n",
    "    def __init__(self):\n",
    "        self.history = []\n",
    "\n",
    "def processVideo(inputVideo, outputVideo, frames_to_remember=3, threshhold=1):\n",
    "    \"\"\"\n",
    "    Process the video `inputVideo` to find the cars and saves the video to `outputVideo`.\n",
    "    \"\"\"\n",
    "    history = HeatHistory()\n",
    "\n",
    "    def pipeline(img):\n",
    "        boxes = findBoxes(img, svc, scaler, params)\n",
    "        img_shape = img.shape\n",
    "        heatmap = add_heat(np.zeros(img_shape), boxes)\n",
    "        if len(history.history) >= frames_to_remember:\n",
    "            history.history = history.history[1:]\n",
    "\n",
    "        history.history.append(heatmap)\n",
    "        heat_history = reduce(lambda h, acc: h + acc, history.history)/frames_to_remember\n",
    "        heatmap = apply_threshold(heat_history, threshhold)\n",
    "        labels = label(heatmap)\n",
    "\n",
    "        return draw_labeled_bboxes(np.copy(img), labels)\n",
    "\n",
    "    myclip = VideoFileClip(inputVideo)\n",
    "    output_video = myclip.fl_image(pipeline)\n",
    "    output_video.write_videofile(outputVideo, audio=False)\n",
    "    \n",
    "processVideo('./videos/project_video.mp4', './video_output/project_video.mp4', threshhold=2)"
   ]
  },
  {
   "cell_type": "code",
   "execution_count": null,
   "metadata": {},
   "outputs": [
    {
     "name": "stdout",
     "output_type": "stream",
     "text": [
      "[MoviePy] >>>> Building video ../Vehicle_detection/test_videos_output/project_video_out.mp4\n",
      "[MoviePy] Writing video ../Vehicle_detection/test_videos_output/project_video_out.mp4\n"
     ]
    },
    {
     "name": "stderr",
     "output_type": "stream",
     "text": [
      " 99%|█████████▊| 1244/1261 [3:18:55<02:43,  9.59s/it] "
     ]
    }
   ],
   "source": [
    "# Import everything needed to edit/save/watch video clips\n",
    "from moviepy.editor import VideoFileClip\n",
    "from IPython.display import HTML\n",
    "from functools import reduce\n",
    "\n",
    "output_video = '../Vehicle_detection/test_videos_output/project_video_out.mp4'\n",
    "## To speed up the testing process you may want to try your pipeline on a shorter subclip of the video\n",
    "## To do so add .subclip(start_second,end_second) to the end of the line below\n",
    "## Where start_second and end_second are integer values representing the start and end of the subclip\n",
    "## You may also uncomment the following line for a subclip of the first 5 seconds\n",
    "##clip1 = VideoFileClip(\"test_videos/solidWhiteRight.mp4\").subclip(0,5)\n",
    "clip1 = VideoFileClip(\"../Vehicle_detection/project_video.mp4\")\n",
    "white_clip = clip1.fl_image(process_image) #NOTE: this function expects color images!!\n",
    "%time white_clip.write_videofile(output_video, audio=False)\n"
   ]
  },
  {
   "cell_type": "code",
   "execution_count": null,
   "metadata": {
    "collapsed": true
   },
   "outputs": [],
   "source": []
  }
 ],
 "metadata": {
  "kernelspec": {
   "display_name": "Python 3",
   "language": "python",
   "name": "python3"
  },
  "language_info": {
   "codemirror_mode": {
    "name": "ipython",
    "version": 3
   },
   "file_extension": ".py",
   "mimetype": "text/x-python",
   "name": "python",
   "nbconvert_exporter": "python",
   "pygments_lexer": "ipython3",
   "version": "3.5.2"
  },
  "widgets": {
   "state": {},
   "version": "1.1.2"
  }
 },
 "nbformat": 4,
 "nbformat_minor": 1
}
